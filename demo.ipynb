{
 "cells": [
  {
   "cell_type": "markdown",
   "metadata": {},
   "source": [
    "## Basic Usage: Predict Patient Risk from WSI and clinical data"
   ]
  },
  {
   "cell_type": "code",
   "execution_count": 4,
   "metadata": {},
   "outputs": [
    {
     "name": "stdout",
     "output_type": "stream",
     "text": [
      "loading ProgPath model\n"
     ]
    },
    {
     "data": {
      "text/plain": [
       "<All keys matched successfully>"
      ]
     },
     "execution_count": 4,
     "metadata": {},
     "output_type": "execute_result"
    }
   ],
   "source": [
    "from utils.utils import read_yaml\n",
    "from utils.model_factory import load_model\n",
    "import torch\n",
    "\n",
    "cfg = read_yaml('projects/configs/cfg_progpath.yaml')\n",
    "model = load_model(cfg)\n",
    "model.load_state_dict(torch.load('weights/progpath.pt'), strict=True)\n"
   ]
  },
  {
   "cell_type": "code",
   "execution_count": null,
   "metadata": {},
   "outputs": [],
   "source": [
    "import pandas as pd\n",
    "import random\n",
    "import torch\n",
    "from datasets.SurvivalBagDataset import process_clinical\n",
    "\n",
    "def encode_cancer_type(cancer_type):\n",
    "    cancer_types = ['blca', 'brca', 'cesc', 'crc', 'gbm', 'hnsc', 'rcc', 'lgg', 'lihc', 'luad', 'lusc', 'paad', 'skcm', 'stad', 'ucec']\n",
    "    encoding = [0] * len(cancer_types)\n",
    "    if cancer_type in cancer_types:\n",
    "        encoding[cancer_types.index(cancer_type)] = 1\n",
    "    return encoding\n",
    "\n",
    "random.seed(1)\n",
    "patient_csv = pd.read_csv('csvs/sr_crc.csv')\n",
    "\n",
    "patient_data = random.sample(list(patient_csv['patient_id']), 1)\n",
    "patient_data = patient_csv[patient_csv['patient_id'] == patient_data[0]]\n",
    "patch_features = torch.load(f'features/{patient_data[\"filename\"].values[0]}')\n",
    "clinical_feature = process_clinical(patient_data, columns=['age', 'sex', 'stage'])['processed_df'].drop(columns=['filename']).values\n",
    "clinical_feature = torch.from_numpy(clinical_feature).float()\n",
    "cancer_type = 'crc'\n",
    "cancer_encoding = torch.tensor(encode_cancer_type(cancer_type)).float()"
   ]
  },
  {
   "cell_type": "code",
   "execution_count": 6,
   "metadata": {},
   "outputs": [
    {
     "name": "stdout",
     "output_type": "stream",
     "text": [
      "patient id: 98 risk: -0.8011984825134277\n"
     ]
    }
   ],
   "source": [
    "model.eval()\n",
    "model.to('cuda')\n",
    "patch_features = patch_features.to('cuda')\n",
    "res = model(h=patch_features, clinical_feature=clinical_feature.to('cuda'), cancer_encoding=cancer_encoding.to('cuda'))\n",
    "risk = res['bag_logits'][0][1:]\n",
    "print('patient id:', patient_data['patient_id'].values[0], 'risk:', risk.item())"
   ]
  },
  {
   "cell_type": "markdown",
   "metadata": {},
   "source": [
    "## Evaluation"
   ]
  },
  {
   "cell_type": "code",
   "execution_count": 7,
   "metadata": {},
   "outputs": [
    {
     "name": "stdout",
     "output_type": "stream",
     "text": [
      "loading ProgPath model\n",
      "loading test set clinical csvs\n",
      "loading 1 external val dataloaders\n",
      "sr_crc cindex_now: 0.7765380443204711 pvalue: 2.496161383249256e-10\n"
     ]
    }
   ],
   "source": [
    "!python3 eval.py --config_path projects/configs/cfg_progpath.yaml"
   ]
  },
  {
   "cell_type": "markdown",
   "metadata": {},
   "source": []
  }
 ],
 "metadata": {
  "kernelspec": {
   "display_name": "histo_py38",
   "language": "python",
   "name": "python3"
  },
  "language_info": {
   "codemirror_mode": {
    "name": "ipython",
    "version": 3
   },
   "file_extension": ".py",
   "mimetype": "text/x-python",
   "name": "python",
   "nbconvert_exporter": "python",
   "pygments_lexer": "ipython3",
   "version": "3.8.19"
  }
 },
 "nbformat": 4,
 "nbformat_minor": 2
}
